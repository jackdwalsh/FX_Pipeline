{
 "cells": [
  {
   "cell_type": "code",
   "execution_count": 73,
   "metadata": {},
   "outputs": [
    {
     "name": "stdout",
     "output_type": "stream",
     "text": [
      "headers 1. From_Currency Code 2. From_Currency Name 3. To_Currency Code  \\\n",
      "value                     USD  United States Dollar                 AUD   \n",
      "\n",
      "headers 4. To_Currency Name 5. Exchange Rate    6. Last Refreshed  \\\n",
      "value     Australian Dollar       1.57640000  2025-03-06 01:36:01   \n",
      "\n",
      "headers 7. Time Zone 8. Bid Price 9. Ask Price  \n",
      "value            UTC   1.57638000   1.57647000  \n"
     ]
    }
   ],
   "source": [
    "from datetime import datetime\n",
    "from dotenv import load_dotenv\n",
    "import os\n",
    "import pytz\n",
    "import requests\n",
    "\n",
    "import pandas as pd \n",
    "\n",
    "df = pd.read_pickle('Nonedf.pkl')\n",
    "\n",
    "df = df.set_index('headers').T  # Set headers as index (headers) and transpose\n",
    "\n",
    "print(df)"
   ]
  },
  {
   "cell_type": "code",
   "execution_count": 74,
   "metadata": {},
   "outputs": [
    {
     "data": {
      "text/plain": [
       "Index(['1. From_Currency Code', '2. From_Currency Name', '3. To_Currency Code',\n",
       "       '4. To_Currency Name', '5. Exchange Rate', '6. Last Refreshed',\n",
       "       '7. Time Zone', '8. Bid Price', '9. Ask Price'],\n",
       "      dtype='object', name='headers')"
      ]
     },
     "execution_count": 74,
     "metadata": {},
     "output_type": "execute_result"
    }
   ],
   "source": [
    "#i want to change last refreshed dates to AUS time\n",
    "\n",
    "df.columns"
   ]
  },
  {
   "cell_type": "code",
   "execution_count": 75,
   "metadata": {},
   "outputs": [
    {
     "data": {
      "text/plain": [
       "Timestamp('2025-03-06 01:36:01')"
      ]
     },
     "execution_count": 75,
     "metadata": {},
     "output_type": "execute_result"
    }
   ],
   "source": [
    "from datetime import datetime\n",
    "from zoneinfo import ZoneInfo\n",
    "\n",
    "x = pd.to_datetime(df['6. Last Refreshed'][0])\n",
    "\n",
    "x\n",
    "\n"
   ]
  },
  {
   "cell_type": "code",
   "execution_count": 76,
   "metadata": {},
   "outputs": [
    {
     "name": "stdout",
     "output_type": "stream",
     "text": [
      "2025-03-06 12:36:01+11:00\n"
     ]
    }
   ],
   "source": [
    "# Assuming x is a datetime object in UTC\n",
    "\n",
    "x = x.replace(tzinfo=ZoneInfo('UTC'))\n",
    "\n",
    "# Convert to Sydney time\n",
    "australia_time = x.astimezone(ZoneInfo('Australia/Sydney'))\n",
    "\n",
    "print(australia_time)"
   ]
  },
  {
   "cell_type": "code",
   "execution_count": 77,
   "metadata": {},
   "outputs": [],
   "source": [
    "df = df.reset_index(drop=True)\n"
   ]
  },
  {
   "cell_type": "code",
   "execution_count": 78,
   "metadata": {},
   "outputs": [],
   "source": [
    "df['6. Last Refreshed'] = australia_time\n",
    "df['7. Time Zone']  = 'UTC+10'"
   ]
  },
  {
   "cell_type": "code",
   "execution_count": 79,
   "metadata": {},
   "outputs": [
    {
     "data": {
      "text/html": [
       "<div>\n",
       "<style scoped>\n",
       "    .dataframe tbody tr th:only-of-type {\n",
       "        vertical-align: middle;\n",
       "    }\n",
       "\n",
       "    .dataframe tbody tr th {\n",
       "        vertical-align: top;\n",
       "    }\n",
       "\n",
       "    .dataframe thead th {\n",
       "        text-align: right;\n",
       "    }\n",
       "</style>\n",
       "<table border=\"1\" class=\"dataframe\">\n",
       "  <thead>\n",
       "    <tr style=\"text-align: right;\">\n",
       "      <th>headers</th>\n",
       "      <th>Runtime_Day</th>\n",
       "      <th>1. From_Currency Code</th>\n",
       "      <th>2. From_Currency Name</th>\n",
       "      <th>3. To_Currency Code</th>\n",
       "      <th>4. To_Currency Name</th>\n",
       "      <th>5. Exchange Rate</th>\n",
       "      <th>6. Last Refreshed</th>\n",
       "      <th>7. Time Zone</th>\n",
       "      <th>8. Bid Price</th>\n",
       "      <th>9. Ask Price</th>\n",
       "    </tr>\n",
       "  </thead>\n",
       "  <tbody>\n",
       "    <tr>\n",
       "      <th>0</th>\n",
       "      <td>2025-03-06</td>\n",
       "      <td>USD</td>\n",
       "      <td>United States Dollar</td>\n",
       "      <td>AUD</td>\n",
       "      <td>Australian Dollar</td>\n",
       "      <td>1.57640000</td>\n",
       "      <td>2025-03-06 12:36:01+11:00</td>\n",
       "      <td>UTC+10</td>\n",
       "      <td>1.57638000</td>\n",
       "      <td>1.57647000</td>\n",
       "    </tr>\n",
       "  </tbody>\n",
       "</table>\n",
       "</div>"
      ],
      "text/plain": [
       "headers Runtime_Day 1. From_Currency Code 2. From_Currency Name  \\\n",
       "0        2025-03-06                   USD  United States Dollar   \n",
       "\n",
       "headers 3. To_Currency Code 4. To_Currency Name 5. Exchange Rate  \\\n",
       "0                       AUD   Australian Dollar       1.57640000   \n",
       "\n",
       "headers         6. Last Refreshed 7. Time Zone 8. Bid Price 9. Ask Price  \n",
       "0       2025-03-06 12:36:01+11:00       UTC+10   1.57638000   1.57647000  "
      ]
     },
     "execution_count": 79,
     "metadata": {},
     "output_type": "execute_result"
    }
   ],
   "source": [
    "runtime_day = df['6. Last Refreshed'].dt.date\n",
    "\n",
    "# Insert runtimedate at 0: likely to be partition index\n",
    "df.insert(loc=0, column='Runtime_Day', value=runtime_day)\n",
    "df"
   ]
  },
  {
   "cell_type": "code",
   "execution_count": 80,
   "metadata": {},
   "outputs": [
    {
     "data": {
      "text/plain": [
       "'2025-03-06'"
      ]
     },
     "execution_count": 80,
     "metadata": {},
     "output_type": "execute_result"
    }
   ],
   "source": [
    "str(runtime_day[0])"
   ]
  },
  {
   "cell_type": "code",
   "execution_count": 81,
   "metadata": {},
   "outputs": [
    {
     "data": {
      "text/plain": [
       "Index(['Runtime_Day', '1. From_Currency Code', '2. From_Currency Name',\n",
       "       '3. To_Currency Code', '4. To_Currency Name', '5. Exchange Rate',\n",
       "       '6. Last Refreshed', '7. Time Zone', '8. Bid Price', '9. Ask Price'],\n",
       "      dtype='object', name='headers')"
      ]
     },
     "execution_count": 81,
     "metadata": {},
     "output_type": "execute_result"
    }
   ],
   "source": [
    "df.columns"
   ]
  },
  {
   "cell_type": "code",
   "execution_count": 82,
   "metadata": {},
   "outputs": [],
   "source": [
    "df['5. Exchange Rate'] = df['5. Exchange Rate'].astype(float)\n",
    "df['8. Bid Price'] = df['8. Bid Price'].astype(float)\n",
    "df['9. Ask Price'] = df['9. Ask Price'].astype(float)"
   ]
  },
  {
   "cell_type": "code",
   "execution_count": 83,
   "metadata": {},
   "outputs": [],
   "source": [
    "# Save to Parquet file\n",
    "df.to_parquet('output.parquet', index=False)"
   ]
  },
  {
   "cell_type": "code",
   "execution_count": 86,
   "metadata": {},
   "outputs": [
    {
     "name": "stdout",
     "output_type": "stream",
     "text": [
      "Runtime_Day: date32[day]\n",
      "1. From_Currency Code: string\n",
      "2. From_Currency Name: string\n",
      "3. To_Currency Code: string\n",
      "4. To_Currency Name: string\n",
      "5. Exchange Rate: double\n",
      "6. Last Refreshed: timestamp[us, tz=Australia/Sydney]\n",
      "7. Time Zone: string\n",
      "8. Bid Price: double\n",
      "9. Ask Price: double\n",
      "-- schema metadata --\n",
      "pandas: '{\"index_columns\": [], \"column_indexes\": [], \"columns\": [{\"name\":' + 1434\n"
     ]
    }
   ],
   "source": [
    "import pyarrow.parquet as pq\n",
    "\n",
    "table = pq.read_table('output.parquet')\n",
    "print(table.schema)"
   ]
  }
 ],
 "metadata": {
  "kernelspec": {
   "display_name": "base",
   "language": "python",
   "name": "python3"
  },
  "language_info": {
   "codemirror_mode": {
    "name": "ipython",
    "version": 3
   },
   "file_extension": ".py",
   "mimetype": "text/x-python",
   "name": "python",
   "nbconvert_exporter": "python",
   "pygments_lexer": "ipython3",
   "version": "3.11.4"
  }
 },
 "nbformat": 4,
 "nbformat_minor": 2
}
